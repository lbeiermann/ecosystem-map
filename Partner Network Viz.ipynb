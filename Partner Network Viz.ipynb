{
 "cells": [
  {
   "cell_type": "code",
   "execution_count": 1,
   "id": "33ed41b6-a918-42d0-b765-5810907525ef",
   "metadata": {},
   "outputs": [],
   "source": [
    "import csv\n",
    "from operator import itemgetter\n",
    "import networkx as nx"
   ]
  },
  {
   "cell_type": "code",
   "execution_count": 2,
   "id": "23841cc6-f2f2-454e-a330-defdbb43425b",
   "metadata": {},
   "outputs": [],
   "source": [
    "with open('Kooperationen_nodes.csv', 'r') as nodecsv: # Open the file\n",
    "    nodereader = csv.reader(nodecsv, delimiter=\";\") # Read the csv\n",
    "    # Retrieve the data (using Python list comprhension and list slicing to remove the header row, see footnote 3)\n",
    "    nodes = [n for n in nodereader][1:]\n",
    "\n",
    "node_names = [n[1] for n in nodes] # Get a list of only the node names\n",
    "\n",
    "with open('Kooperationen_edges.csv', 'r') as edgecsv: # Open the file\n",
    "    edgereader = csv.reader(edgecsv, delimiter=\";\") # Read the csv\n",
    "    edges = [tuple(e) for e in edgereader][1:] # Retrieve the data"
   ]
  },
  {
   "cell_type": "code",
   "execution_count": 3,
   "id": "78fdf893-59c7-47ec-b522-9d071e230c46",
   "metadata": {},
   "outputs": [
    {
     "name": "stdout",
     "output_type": "stream",
     "text": [
      "['HSPV', 'HS Bremen', 'DFN', 'Stiftung Mercator', 'BSI', 'BMI', 'Land Schleswig-Holstein', 'FITKO', 'IT-Planungsrat', 'ITZBund', 'NExT e.V.', 'govdigital', 'Bitkom', 'OSBA', 'Sovereign Cloud Stack', 'GovStack', 'DigitalService', 'SPRIN-D', 'GovTechCampus', 'Sovereign Tech Agency', 'OpenForum Europe', 'EU OSPO Netzwerk', 'EU DG DIGIT', 'Vereinte Nationen', 'Universität Würzburg', 'TUM', 'Universität Bern', 'Gesellschaft für Informatik', 'FSFE', 'Linux Foundation', 'Stadt München', 'Stadt Dortmund', 'Berlin', 'KGSt', 'KERN UX', 'RUB', 'Hersteller', 'DINUM', 'Innenministerium NL', 'Dataport', 'govdigital', 'OSK Berlin', 'BWI', 'RKI', 'KDO', 'Plattformpartner', 'Strategischer Partner', 'Knowledge Partner', 'Produktpartner']\n"
     ]
    }
   ],
   "source": [
    "print(node_names)"
   ]
  },
  {
   "cell_type": "code",
   "execution_count": 4,
   "id": "6c413427-b7a5-4d7c-9305-32e155d89011",
   "metadata": {},
   "outputs": [],
   "source": [
    "G = nx.Graph()"
   ]
  },
  {
   "cell_type": "code",
   "execution_count": 5,
   "id": "220b4d5c-d533-4084-ab85-60bafdd02e57",
   "metadata": {},
   "outputs": [],
   "source": [
    "G.add_nodes_from(node_names)\n",
    "G.add_edges_from(edges)"
   ]
  },
  {
   "cell_type": "code",
   "execution_count": 6,
   "id": "3de26cb3-8fed-422c-8065-88eec19343cb",
   "metadata": {},
   "outputs": [
    {
     "name": "stdout",
     "output_type": "stream",
     "text": [
      "Graph with 48 nodes and 55 edges\n"
     ]
    }
   ],
   "source": [
    "print(G)"
   ]
  },
  {
   "cell_type": "code",
   "execution_count": 7,
   "id": "13a22831-1d78-4284-8a79-e79ff11c8e74",
   "metadata": {},
   "outputs": [],
   "source": [
    "size_dict = {}\n",
    "status_dict = {}\n",
    "group_dict = {}"
   ]
  },
  {
   "cell_type": "code",
   "execution_count": 8,
   "id": "afde19a2-7d65-4542-af3e-406d5932de19",
   "metadata": {},
   "outputs": [],
   "source": [
    "for node in nodes: # Loop through the list, one row at a time\n",
    "    size_dict[node[1]] = node[2]\n",
    "    status_dict[node[1]] = node[3]\n",
    "    group_dict[node[1]] = node[4]\n"
   ]
  },
  {
   "cell_type": "code",
   "execution_count": 9,
   "id": "a31068ae-8a72-4e19-b7e9-dc913d23a755",
   "metadata": {},
   "outputs": [],
   "source": [
    "nx.set_node_attributes(G, size_dict, 'size')\n",
    "nx.set_node_attributes(G, status_dict, 'status')\n",
    "nx.set_node_attributes(G, group_dict, 'group')"
   ]
  },
  {
   "cell_type": "code",
   "execution_count": null,
   "id": "9ed4e788-909a-4e29-a883-4f0070f974af",
   "metadata": {},
   "outputs": [],
   "source": [
    "from netwulf import visualize\n",
    "\n",
    "visualize(G)"
   ]
  },
  {
   "cell_type": "code",
   "execution_count": null,
   "id": "b40c49ac-886d-4845-b451-d8075a4a449e",
   "metadata": {},
   "outputs": [],
   "source": []
  },
  {
   "cell_type": "code",
   "execution_count": null,
   "id": "17ac3d51-4ddd-4ce2-8077-9be95d746fd2",
   "metadata": {},
   "outputs": [],
   "source": []
  }
 ],
 "metadata": {
  "kernelspec": {
   "display_name": "Python 3 (ipykernel)",
   "language": "python",
   "name": "python3"
  },
  "language_info": {
   "codemirror_mode": {
    "name": "ipython",
    "version": 3
   },
   "file_extension": ".py",
   "mimetype": "text/x-python",
   "name": "python",
   "nbconvert_exporter": "python",
   "pygments_lexer": "ipython3",
   "version": "3.12.7"
  }
 },
 "nbformat": 4,
 "nbformat_minor": 5
}
